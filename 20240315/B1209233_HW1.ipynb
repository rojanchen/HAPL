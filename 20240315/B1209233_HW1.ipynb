{
  "nbformat": 4,
  "nbformat_minor": 0,
  "metadata": {
    "colab": {
      "provenance": []
    },
    "kernelspec": {
      "name": "python3",
      "display_name": "Python 3"
    },
    "language_info": {
      "name": "python"
    }
  },
  "cells": [
    {
      "cell_type": "markdown",
      "source": [
        "1.輸出指定文字"
      ],
      "metadata": {
        "id": "93Vq1MYeE2f1"
      }
    },
    {
      "cell_type": "code",
      "execution_count": 5,
      "metadata": {
        "colab": {
          "base_uri": "https://localhost:8080/"
        },
        "id": "b-5kUU-_EsN_",
        "outputId": "93d51f72-53bc-4270-c871-413e582165b9"
      },
      "outputs": [
        {
          "output_type": "stream",
          "name": "stdout",
          "text": [
            "I'm a student.\n"
          ]
        }
      ],
      "source": [
        "a = \"I'm a student.\"\n",
        "print(str(a))"
      ]
    },
    {
      "cell_type": "markdown",
      "source": [
        "2.計算兩點距離"
      ],
      "metadata": {
        "id": "uqYmUsVOFNKL"
      }
    },
    {
      "cell_type": "code",
      "source": [
        "a='A(x1,y1)'\n",
        "b='B(x2,y2)'\n",
        "print(a)\n",
        "print(b)\n",
        "\n",
        "x1 = float(input(\"請輸入 x1: \"))\n",
        "y1 = float(input(\"請輸入 y1: \"))\n",
        "x2 = float(input(\"請輸入 x2: \"))\n",
        "y2 = float(input(\"請輸入 y2: \"))\n",
        "\n",
        "X = (x2 - x1) **2\n",
        "Y = (y2 - y1) **2\n",
        "\n",
        "print(f'AB兩點間的距離：{(X + Y) ** 0.5}')"
      ],
      "metadata": {
        "colab": {
          "base_uri": "https://localhost:8080/"
        },
        "id": "tAGmom8EFMiS",
        "outputId": "1fd2dbba-9d0f-4bfe-c18b-a0b8f954601a"
      },
      "execution_count": 3,
      "outputs": [
        {
          "output_type": "stream",
          "name": "stdout",
          "text": [
            "A(x1,y1)\n",
            "B(x2,y2)\n",
            "請輸入 x1: 2\n",
            "請輸入 y1: 1\n",
            "請輸入 x2: 5\n",
            "請輸入 y2: 5\n",
            "AB兩點間的距離：5.0\n"
          ]
        }
      ]
    },
    {
      "cell_type": "markdown",
      "source": [
        "3.計算BMI\n",
        "\n",
        "BMI=體重(公斤)/身高平方(平方公尺)\n"
      ],
      "metadata": {
        "id": "J1eBOEwDFk1J"
      }
    },
    {
      "cell_type": "code",
      "source": [
        "a = float(input(\"請輸入身高（cm）：\"))\n",
        "b = float(input(\"請輸入體重（kg）：\"))\n",
        "a *= 0.01\n",
        "a **= 2\n",
        "BMI = (b / a)\n",
        "print(BMI)"
      ],
      "metadata": {
        "colab": {
          "base_uri": "https://localhost:8080/"
        },
        "id": "XaVfp0BnFpR7",
        "outputId": "3ad91bfd-36e2-479c-c7ca-cd43a7825b53"
      },
      "execution_count": 4,
      "outputs": [
        {
          "output_type": "stream",
          "name": "stdout",
          "text": [
            "請輸入身高（cm）：158\n",
            "請輸入體重（kg）：55\n",
            "22.031725684986377\n"
          ]
        }
      ]
    }
  ]
}