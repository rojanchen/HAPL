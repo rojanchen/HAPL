{
  "nbformat": 4,
  "nbformat_minor": 0,
  "metadata": {
    "colab": {
      "provenance": []
    },
    "kernelspec": {
      "name": "python3",
      "display_name": "Python 3"
    },
    "language_info": {
      "name": "python"
    }
  },
  "cells": [
    {
      "cell_type": "code",
      "execution_count": 27,
      "metadata": {
        "colab": {
          "base_uri": "https://localhost:8080/"
        },
        "id": "9EN-bTnHn4yE",
        "outputId": "fac0745e-7d05-446e-f567-a0b57152f9d3"
      },
      "outputs": [
        {
          "output_type": "stream",
          "name": "stdout",
          "text": [
            "{'姓名': '賴宏偉', '性別': '男', '作業分數': [100, 100, 90], '學號': 'M1129020'}\n",
            "96.66666666666667\n"
          ]
        }
      ],
      "source": [
        "a={'姓名':'賴宏偉','性別':'男','作業分數':[80,95,100,90]}\n",
        "b=a.setdefault('學號','M1129020')\n",
        "a['作業分數'][1]=100\n",
        "del a['作業分數'][0]\n",
        "print(a)\n",
        "c=a.get('作業分數')\n",
        "d=c[0]\n",
        "e=c[1]\n",
        "f=c[2]\n",
        "x=(d+e+f)/3\n",
        "print(x)\n"
      ]
    }
  ]
}