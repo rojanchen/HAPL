{
  "cells": [
    {
      "cell_type": "code",
      "execution_count": 16,
      "metadata": {
        "colab": {
          "base_uri": "https://localhost:8080/"
        },
        "id": "XaVfp0BnFpR7",
        "outputId": "dbacf1b6-2c91-4e67-e32a-d246af6346ca"
      },
      "outputs": [
        {
          "output_type": "stream",
          "name": "stdout",
          "text": [
            "請輸入西元年份：1580\n",
            "閏年\n"
          ]
        }
      ],
      "source": [
        "a=float(input(\"請輸入西元年份：\"))\n",
        "\n",
        "if a<=1582:\n",
        "  if a%4==0:\n",
        "    print('閏年')\n",
        "  else:\n",
        "    print('平年')\n",
        "else:\n",
        "  if a%4==0:\n",
        "    if a%100==0:\n",
        "      if a%400==0:\n",
        "        print('閏年')\n",
        "      else:\n",
        "        print('平年')\n",
        "    else:\n",
        "      print('閏年')\n",
        "  else:\n",
        "    print('平年')"
      ]
    },
    {
      "cell_type": "code",
      "execution_count": 19,
      "metadata": {
        "colab": {
          "base_uri": "https://localhost:8080/"
        },
        "outputId": "3bf64ba9-9533-4763-9564-15bb85806f3e",
        "id": "rLe477Za6Sij"
      },
      "outputs": [
        {
          "output_type": "stream",
          "name": "stdout",
          "text": [
            "請輸入西元年份：1600\n",
            "閏年\n"
          ]
        }
      ],
      "source": [
        "a=float(input(\"請輸入西元年份：\"))\n",
        "\n",
        "if a<=1582:\n",
        "  if a%4==0:\n",
        "    print('閏年')\n",
        "  else:\n",
        "    print('平年')\n",
        "else:\n",
        "  if a%4==0:\n",
        "    if a%100==0:\n",
        "      if a%400==0:\n",
        "        print('閏年')\n",
        "      else:\n",
        "        print('平年')\n",
        "    else:\n",
        "      print('閏年')\n",
        "  else:\n",
        "    print('平年')"
      ]
    }
  ],
  "metadata": {
    "colab": {
      "provenance": []
    },
    "kernelspec": {
      "display_name": "Python 3",
      "name": "python3"
    },
    "language_info": {
      "name": "python"
    }
  },
  "nbformat": 4,
  "nbformat_minor": 0
}