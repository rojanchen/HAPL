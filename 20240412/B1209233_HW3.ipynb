{
  "cells": [
    {
      "cell_type": "code",
      "execution_count": 1,
      "metadata": {
        "colab": {
          "base_uri": "https://localhost:8080/"
        },
        "id": "XaVfp0BnFpR7",
        "outputId": "bc3420da-6ae1-454a-d5d9-fdfe284b9365"
      },
      "outputs": [
        {
          "output_type": "stream",
          "name": "stdout",
          "text": [
            "請輸入西元年份：1580\n",
            "閏年\n"
          ]
        }
      ],
      "source": [
        "a=int(input(\"請輸入西元年份：\"))\n",
        "\n",
        "if a<=1582:\n",
        "  if a%4==0:\n",
        "    print('閏年')\n",
        "  else:\n",
        "    print('平年')\n",
        "else:\n",
        "  if a%4==0:\n",
        "    if a%100==0:\n",
        "      if a%400==0:\n",
        "        print('閏年')\n",
        "      else:\n",
        "        print('平年')\n",
        "    else:\n",
        "      print('閏年')\n",
        "  else:\n",
        "    print('平年')"
      ]
    },
    {
      "cell_type": "code",
      "execution_count": 6,
      "metadata": {
        "colab": {
          "base_uri": "https://localhost:8080/"
        },
        "outputId": "a316d0d6-e5f4-4c38-87ec-2021c5ba3b7c",
        "id": "rLe477Za6Sij"
      },
      "outputs": [
        {
          "output_type": "stream",
          "name": "stdout",
          "text": [
            "請輸入西元年份：1600\n",
            "閏年\n"
          ]
        }
      ],
      "source": [
        "a=int(input(\"請輸入西元年份：\"))\n",
        "\n",
        "if a<=1582:\n",
        "  if a%4==0:\n",
        "    print('閏年')\n",
        "  else:\n",
        "    print('平年')\n",
        "else:\n",
        "  if a%4==0:\n",
        "    if a%100==0:\n",
        "      if a%400==0:\n",
        "        print('閏年')\n",
        "      else:\n",
        "        print('平年')\n",
        "    else:\n",
        "      print('閏年')\n",
        "  else:\n",
        "    print('平年')"
      ]
    }
  ],
  "metadata": {
    "colab": {
      "provenance": []
    },
    "kernelspec": {
      "display_name": "Python 3",
      "name": "python3"
    },
    "language_info": {
      "name": "python"
    }
  },
  "nbformat": 4,
  "nbformat_minor": 0
}