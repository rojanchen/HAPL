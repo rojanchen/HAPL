{
  "nbformat": 4,
  "nbformat_minor": 0,
  "metadata": {
    "colab": {
      "provenance": []
    },
    "kernelspec": {
      "name": "python3",
      "display_name": "Python 3"
    },
    "language_info": {
      "name": "python"
    }
  },
  "cells": [
    {
      "cell_type": "code",
      "source": [
        "a = float(input(\"請輸入身高（cm）：\"))\n",
        "b = float(input(\"請輸入體重（kg）：\"))\n",
        "a *= 0.01\n",
        "a **= 2\n",
        "BMI = (b / a)\n",
        "print('BMI:',BMI)\n",
        "\n",
        "if BMI < 18.5:\n",
        "  print('體位:過輕')\n",
        "elif 18.5 <= BMI < 24:\n",
        "  print('體位:適中')\n",
        "elif 24 <= BMI < 27:\n",
        "  print('體位:過重')\n",
        "else:\n",
        "  print('體位:肥胖')"
      ],
      "metadata": {
        "colab": {
          "base_uri": "https://localhost:8080/"
        },
        "id": "XaVfp0BnFpR7",
        "outputId": "0a914f0e-149a-4a08-a387-61d748bae4cd"
      },
      "execution_count": 11,
      "outputs": [
        {
          "output_type": "stream",
          "name": "stdout",
          "text": [
            "請輸入身高（cm）：158\n",
            "請輸入體重（kg）：55\n",
            "BMI: 22.031725684986377\n",
            "體位:適中\n"
          ]
        }
      ]
    },
    {
      "cell_type": "code",
      "source": [
        "a = float(input(\"請輸入第一個數字：\"))\n",
        "b = input(\"請輸入運算符號：\")\n",
        "c = float(input(\"請輸入第二個數字：\"))\n",
        "d=a+c\n",
        "e=a-c\n",
        "f=a*c\n",
        "g=a / c\n",
        "\n",
        "if b == '+':\n",
        "    print(d)\n",
        "elif b == '-':\n",
        "    print(e)\n",
        "elif b == '*':\n",
        "    print(f)\n",
        "else:\n",
        "    print(g)"
      ],
      "metadata": {
        "colab": {
          "base_uri": "https://localhost:8080/"
        },
        "id": "9IZ2oMLj0WYj",
        "outputId": "ff356f7f-274e-433f-fbd6-fc835290c89c"
      },
      "execution_count": 15,
      "outputs": [
        {
          "output_type": "stream",
          "name": "stdout",
          "text": [
            "請輸入第一個數字：2\n",
            "請輸入運算符號：+\n",
            "請輸入第二個數字：3\n",
            "5.0\n"
          ]
        }
      ]
    }
  ]
}