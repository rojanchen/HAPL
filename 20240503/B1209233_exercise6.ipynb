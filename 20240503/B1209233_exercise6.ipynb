{
  "nbformat": 4,
  "nbformat_minor": 0,
  "metadata": {
    "colab": {
      "provenance": []
    },
    "kernelspec": {
      "name": "python3",
      "display_name": "Python 3"
    },
    "language_info": {
      "name": "python"
    }
  },
  "cells": [
    {
      "cell_type": "code",
      "execution_count": 4,
      "metadata": {
        "colab": {
          "base_uri": "https://localhost:8080/"
        },
        "outputId": "7989ff64-d1fe-4f06-d7d3-c28805b83db6",
        "id": "1xW7BZhUCCmV"
      },
      "outputs": [
        {
          "output_type": "stream",
          "name": "stdout",
          "text": [
            "聖誕樹層數：9\n",
            "        *\n",
            "       ***\n",
            "      *****\n",
            "     *******\n",
            "    *********\n",
            "   ***********\n",
            "  *************\n",
            " ***************\n",
            "*****************\n",
            "       ***\n",
            "       ***\n",
            "       ***\n",
            "       ***\n",
            "       ***\n"
          ]
        }
      ],
      "source": [
        "def 聖誕樹層數(n):\n",
        "  for i in range(1,n+1):\n",
        "    a=\" \" * (n-i)\n",
        "    b=\"*\" * (2*i-1)\n",
        "    print(a+b)\n",
        "  for _ in range(5):\n",
        "    c=\" \" * (n-2)\n",
        "    d=\"***\"\n",
        "    print(c+d)\n",
        "聖誕樹層數(int(input(\"聖誕樹層數：\")))"
      ]
    },
    {
      "cell_type": "code",
      "source": [
        "def BMI(a,b):\n",
        "  a *= 0.01\n",
        "  a **= 2\n",
        "  BMI = (b / a)\n",
        "  return BMI\n",
        "\n",
        "def 體位(BMI):\n",
        "  if BMI < 18.5:\n",
        "    return \"過輕\"\n",
        "  elif 18.5 <= BMI < 24:\n",
        "    return \"適中\"\n",
        "  elif 24 <= BMI < 27:\n",
        "    return \"過重\"\n",
        "  else:\n",
        "    return \"肥胖\"\n",
        "\n",
        "try:\n",
        "   a = float(input(\"請輸入身高（cm）：\"))\n",
        "   b = float(input(\"請輸入體重（kg）：\"))\n",
        "   BMI=BMI(a,b)\n",
        "   體位=體位(BMI)\n",
        "   print('BMI:',BMI)\n",
        "   print('體位:',體位)\n",
        "except ValueError:\n",
        "   print(\"輸入內容錯誤\")"
      ],
      "metadata": {
        "colab": {
          "base_uri": "https://localhost:8080/"
        },
        "outputId": "4c51f566-fac3-44ca-884e-06f3a29e605d",
        "id": "xAsJmXW1ghLL"
      },
      "execution_count": 3,
      "outputs": [
        {
          "output_type": "stream",
          "name": "stdout",
          "text": [
            "請輸入身高（cm）：158\n",
            "請輸入體重（kg）：q\n",
            "輸入內容錯誤\n"
          ]
        }
      ]
    },
    {
      "cell_type": "code",
      "source": [
        "def BMI(a,b):\n",
        "  a *= 0.01\n",
        "  a **= 2\n",
        "  BMI = (b / a)\n",
        "  return BMI\n",
        "\n",
        "def 體位(BMI):\n",
        "  if BMI < 18.5:\n",
        "    return \"過輕\"\n",
        "  elif 18.5 <= BMI < 24:\n",
        "    return \"適中\"\n",
        "  elif 24 <= BMI < 27:\n",
        "    return \"過重\"\n",
        "  else:\n",
        "    return \"肥胖\"\n",
        "\n",
        "try:\n",
        "   a = float(input(\"請輸入身高（cm）：\"))\n",
        "   b = float(input(\"請輸入體重（kg）：\"))\n",
        "   BMI=BMI(a,b)\n",
        "   體位=體位(BMI)\n",
        "   print('BMI:',BMI)\n",
        "   print('體位:',體位)\n",
        "except ValueError:\n",
        "   print(\"輸入內容錯誤\")"
      ],
      "metadata": {
        "colab": {
          "base_uri": "https://localhost:8080/"
        },
        "id": "-fRci64oNOhf",
        "outputId": "da0af299-b878-49e2-b676-90219d0b81c4"
      },
      "execution_count": 5,
      "outputs": [
        {
          "output_type": "stream",
          "name": "stdout",
          "text": [
            "請輸入身高（cm）：158\n",
            "請輸入體重（kg）：55\n",
            "BMI: 22.031725684986377\n",
            "體位: 適中\n"
          ]
        }
      ]
    }
  ]
}